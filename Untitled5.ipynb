{
 "cells": [
  {
   "cell_type": "markdown",
   "id": "3ee3fea2-6299-4349-81da-b9e5a17a8026",
   "metadata": {},
   "source": [
    "## TP :Tools for data science "
   ]
  },
  {
   "cell_type": "markdown",
   "id": "8bbc63fc-714d-4b98-800c-92714736ec3a",
   "metadata": {},
   "source": [
    "### Introduction"
   ]
  },
  {
   "cell_type": "markdown",
   "id": "a50721b8-cf3f-4cc1-82ab-102c6f6a9aa0",
   "metadata": {},
   "source": [
    "## Langages de la Science des Données\r\n",
    "\r\n",
    "- **Python**: Langage de programmation polyvalent largement utilisé pour l'analyse de données, l'apprentissage automatique, la visualisation, etc. Populaire pour ses bibliothèques telles que Pandas, NumPy, Matplotlib et scikit-learn.\r\n",
    "  \r\n",
    "- **R**: Un langage spécialisé dans la statistique et la visualisation de données, souvent utilisé dans la recherche en sciences sociales et en biostatistique.\r\n",
    "\r\n",
    "- **SQL**: Langage de requête structuré utilisé pour interagir avec les bases de données relationnelles. Il est crucial pour l'extraction et la manipulation de données dans de nombreux projets de science des données.\r\n",
    "\r\n",
    "- **Julia**: Un langage de programmation scientifique haute performance, de plus en plus utilisé pour le calcul numérique et l'analyse de données en raison de sa vitesse d'exécution et de sa facilité d'utilisation.\r\n",
    "\r\n",
    "- **Scala**: Souvent utilisé avec Apache Spark pour le traitement de données distribuées à grande échelle.\r\n",
    "\r\n",
    "- **MATLAB**: Bien que moins courant dans les cercles de la science des données, MATLAB est souvent utilisé dans les domaines de l'ingénierie et des sciences mathématiques pour l'analyse de données et la modélisation.\r\n",
    "\r\n",
    "- **Java**: Utilisé pour des projets de science des données à grande échelle et dans des environnements d'entreprise, notamment avec des frameworks comme Hadoop et Spark.\r\n",
    "\r\n",
    "- **JavaScript**: Avec l'avènement des bibliothèques comme D3.js et TensorFlow.js, JavaScript est de plus en plus utilisé pour la visualisation de données et le développement de modèles d'apprentissage automatique dans les environnements web.\r\n",
    "\r\n",
    "- **C/C++**: Utilisés pour des tâches intensives en calcul, en particulier lorsqu'il est nécessaire d'optimiser les performances.\r\n",
    "\r\n",
    "- **Perl**: Bien que moins courant dans les nouveaux projets, Perl a été historiquement utilisé dans la bioinformatique et l'analyse de séquences génétiques.\r\n"
   ]
  },
  {
   "cell_type": "markdown",
   "id": "596e9d50-e31e-49af-b4b2-0922745e78ac",
   "metadata": {},
   "source": [
    "## Bibliothèques de Science des Données\r\n",
    "\r\n",
    "### Manipulation de Données et Analyse\r\n",
    "\r\n",
    "- **Pandas**: Bibliothèque Python pour la manipulation et l'analyse des données, offrant des structures de données flexibles et performantes.\r\n",
    "\r\n",
    "- **NumPy**: Bibliothèque fondamentale pour les calculs numériques en Python, offrant des tableaux multidimensionnels et des fonctions mathématiques de haut niveau.\r\n",
    "\r\n",
    "### Visualisation\r\n",
    "\r\n",
    "- **Matplotlib**: Bibliothèque de visualisation de données de base en Python, offrant une grande flexibilité pour la création de graphiques statiques.\r\n",
    "\r\n",
    "- **Seaborn**: Basé sur Matplotlib, Seaborn fournit une interface de haut niveau pour créer des graphiques statistiques attrayants et informatifs.\r\n",
    "\r\n",
    "- **Plotly**: Bibliothèque de visualisation interactive offrant des graphiques dynamiques et interactifs.\r\n",
    "\r\n",
    "### Apprentissage Automatique\r\n",
    "\r\n",
    "- **scikit-learn**: Bibliothèque incontournable pour l'apprentissage automatique en Python, offrant des outils simples et efficaces pour la classification, la régression, le clustering, etc.\r\n",
    "\r\n",
    "- **TensorFlow**: Bibliothèque open source d'apprentissage automatique développée par Google, principalement utilisée pour la création de modèles d'apprentissage profond.\r\n",
    "\r\n",
    "- **Keras**: Interface de haut niveau pour TensorFlow (et d'autres frameworks d'apprentissage profond), facilitant la création rapide de modèles d'apprentissage profond.\r\n",
    "\r\n",
    "### Traitement de Texte et NLP\r\n",
    "\r\n",
    "- **NLTK (Natural Language Toolkit)**: Bibliothèque Python pour le traitement du langage naturel, offrant des fonctionnalités telles que la tokenization, la lemmatization, la classification de texte, etc.\r\n",
    "\r\n",
    "- **spaCy**: Bibliothèque Python pour le traitement avancé du langage naturel, mettant l'accent sur la rapidité et la production.\r\n",
    "\r\n",
    "### Traitement d'Images\r\n",
    "\r\n",
    "- **OpenCV**: Bibliothèque open source de vision par ordinateur et de traitement d'images offrant des outils pour le traitement d'images, la détection d'objets, la reconnaissance de formes, etc.\r\n",
    "\r\n",
    "- **Pillow (PIL)**: Bibliothèque Python pour le traitement d'images de base, offrant des fonctionnalités telles que la manipulation d'images, le redimensionnement, la conversion de formats, etc.\r\n",
    "\r\n",
    "### Autres\r\n",
    "\r\n",
    "- **Statsmodels**: Bibliothèque Python pour l'estimation de modèles statistiques, la réalisation de tests statistiques et l'exploration de données.\r\n",
    "\r\n",
    "- **PyTorch**: Bibliothèque open source d'apprentissage automatique développée par Facebook, utilisée pour la création de modèles d'apprentissage profond.\r\n",
    "\r\n",
    "- **Dask**: Bibliothèque pour le calcul parallèle en Python, offrant des structures de données et des opérations similaires à celles de Pandas et NumPy, mais conçues pour l'évolutivité.\r\n"
   ]
  },
  {
   "cell_type": "markdown",
   "id": "7735b3e3-0068-45ef-a3ff-40d4d76bbab2",
   "metadata": {},
   "source": [
    "## Outils de Science des Données\r\n",
    "\r\n",
    "| Outil              | Description                                                                                                   |\r\n",
    "|--------------------|---------------------------------------------------------------------------------------------------------------|\r\n",
    "| Jupyter Notebook   | Environnement interactif pour l'analyse de données, le prototypage de code, la visualisation et la narration. |\r\n",
    "| RStudio            | Environnement de développement intégré (IDE) pour le langage R, offrant des fonctionnalités avancées.        |\r\n",
    "| Spyder             | IDE Python conçu pour la science des données, offrant un éditeur de code, une console IPython et plus encore.|\r\n",
    "| Visual Studio Code | Un éditeur de code open source avec des extensions pour la science des données, le langage Python, etc.      |\r\n",
    "| Anaconda           | Distribution Python populaire pour la science des données, incluant de nombreuses bibliothèques préinstallées.|\r\n",
    "| Tableau            | Outil de visualisation de données et de business intelligence permettant de créer des tableaux de bord interactifs.|\r\n",
    "| Apache Spark       | Moteur de traitement de données distribué, adapté au traitement de grands ensembles de données en parallèle.|\r\n",
    "| Databricks         | Plateforme cloud basée sur Apache Spark pour l'analyse de données et le machine learning.                    |\r\n",
    "| KNIME              | Plateforme open source pour l'analyse de données et la création de workflows visuels.                         |\r\n",
    "| RapidMiner         | Plateforme open source pour l'analyse prédictive et l'analyse de données, basée sur des workflows.            |\r\n"
   ]
  },
  {
   "cell_type": "markdown",
   "id": "082a91ef-daaa-4073-8996-44e65bcebe00",
   "metadata": {},
   "source": [
    "## Exemples d'Expressions Arithmétiques\r\n",
    "\r\n",
    "1. Addition: \r\n",
    "   - $2 + 3 = 5$\r\n",
    "   - $10 + (-5) = 5$\r\n",
    "\r\n",
    "2. Soustraction:\r\n",
    "   - $7 - 4 = 3$\r\n",
    "   - $100 - 20 = 80$\r\n",
    "\r\n",
    "3. Multiplication:\r\n",
    "   - $4 \\times 6 = 24$\r\n",
    "   - $-3 \\times 9 = -27$\r\n",
    "\r\n",
    "4. Division:\r\n",
    "   - $\\frac{10}{2} = 5$\r\n",
    "   - $\\frac{15}{3} = 5$\r\n",
    "\r\n",
    "5. Exponentiation:\r\n",
    "   - $2^3 = 8$\r\n",
    "   - $5^2 = 25$\r\n",
    "\r\n",
    "6. Racine carrée:\r\n",
    "   - $\\sqrt{9} = 3$\r\n",
    "   - $\\sqrt{25} = 5$\r\n",
    "\r\n",
    "7. Parenthèses pour la priorité:\r\n",
    "   - $2 \\times (3 + 4) = 14$\r\n",
    "   - $(6 + 2) \\div 2 = 4$\r\n"
   ]
  },
  {
   "cell_type": "code",
   "execution_count": 1,
   "id": "a8f86780-5fa4-4b64-bd41-dd8acc6845f6",
   "metadata": {},
   "outputs": [
    {
     "name": "stdout",
     "output_type": "stream",
     "text": [
      "Résultat de la multiplication : 15\n",
      "Résultat de l'addition : 17\n"
     ]
    }
   ],
   "source": [
    "# Multiplication\n",
    "a = 5\n",
    "b = 3\n",
    "result_mult = a * b\n",
    "print(\"Résultat de la multiplication :\", result_mult)\n",
    "\n",
    "# Addition\n",
    "x = 10\n",
    "y = 7\n",
    "result_add = x + y\n",
    "print(\"Résultat de l'addition :\", result_add)\n"
   ]
  },
  {
   "cell_type": "markdown",
   "id": "1a587871-1639-4319-8c03-11d899d71c67",
   "metadata": {},
   "source": [
    "# Nombre de minutes à convertir en heures\r\n",
    "minutes = 135\r\n",
    "\r\n",
    "# Conversion en heures et minutes\r\n",
    "heures = minutes // 60\r\n",
    "minutes_restantes = minutes % 60\r\n",
    "\r\n",
    "# Affichage du résultat\r\n",
    "print(minutes, \"minutes équivalent à\", heures, \"heures et\", minutes_restantes, \"minutes.\")\r\n"
   ]
  },
  {
   "cell_type": "markdown",
   "id": "73506b45-c989-446c-9865-fa3b7a7a2d22",
   "metadata": {},
   "source": [
    "\n",
    "## Objectifs\r\n",
    "\r\n",
    "1. Terminer l'analyse exploratoire des données.\r\n",
    "2. Entraîner un modèle de prédiction utilisant un algorithme d'apprentissage automatique.\r\n",
    "3. Créer des visualisations des résultats du modèle.\r\n",
    "4. Écrire un rapport sur les conclusions de l'analyse.\r\n",
    "5. Présenter les résultats lors de la réunion d'équipe.\r\n"
   ]
  },
  {
   "cell_type": "markdown",
   "id": "67e7e93c-17fb-4639-a8fc-54f4e6144951",
   "metadata": {},
   "source": [
    "## Auteur\r\n",
    "\r\n",
    "John Doe\r\n"
   ]
  }
 ],
 "metadata": {
  "kernelspec": {
   "display_name": "Python 3 (ipykernel)",
   "language": "python",
   "name": "python3"
  },
  "language_info": {
   "codemirror_mode": {
    "name": "ipython",
    "version": 3
   },
   "file_extension": ".py",
   "mimetype": "text/x-python",
   "name": "python",
   "nbconvert_exporter": "python",
   "pygments_lexer": "ipython3",
   "version": "3.11.7"
  }
 },
 "nbformat": 4,
 "nbformat_minor": 5
}
